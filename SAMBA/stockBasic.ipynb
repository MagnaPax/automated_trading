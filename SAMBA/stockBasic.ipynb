{
 "cells": [
  {
   "cell_type": "markdown",
   "metadata": {},
   "source": [
    "# 삼성바이오로직스\n",
    "## 기업분석\n",
    "\n",
    "* 삼성바이오로직스는 바이오의약품 일괄생산 체제를 갖춘 글로벌 바이오 CMO(Contract Manufa-cturing Organization) 기업\n",
    "* 현재 바이오의약품을 위탁 생산하는 CMO 사업을 전문적으로 영위하고 있음\n",
    "* 생산설비 제공뿐 아니라 주요 규제기관으로부터의 제조승인 취득을 지원하는 Quality service 및 신약 물질의 상업 생산용 공정개발 solution을 제공하는 Fully-integrated manufacturing service provider를 지향\n",
    "* 바이오의약품 연구개발 자회사인 삼성바이오에피스와 아키젠바이오텍은 바이오시밀러 개발 및 상업화를 진행 중\n"
   ]
  },
  {
   "cell_type": "markdown",
   "metadata": {},
   "source": [
    "## 투자분석\n",
    "* 삼성바이오로직스의 주가 상승 원인\n",
    "* 실적이 본격적으로 상승\n",
    "* 19년 4분기 실적만 봐도 매출액 3,133억원(YoY +75.8%)\n",
    "* 영업이익 1,070억원(YoY +353.0%)을 기록 주가상승의 당위성을 부여\n",
    "* 영업이익은 컨센서스(443억원)를 크게 상회\n",
    "![alt text](img/pic1.png)"
   ]
  },
  {
   "cell_type": "markdown",
   "metadata": {},
   "source": [
    "### 한계\n",
    "* 정보획득의 한계로 모멘텀 투자 전략 사용\n",
    "### 모멘텀 투자 전략이란?\n",
    "* 주가 추세의 속도가 증가, 감소 추세 운동량을 기준화\n",
    "* 주가의 변공성을 활용한 투자기법\n",
    "* 가치투자에 상반되는 투자 기법으로 \n",
    "* 이미 모든 유효한 정보는 가격에 반영되어 있다는 가정으로 분석하는 기술투자 기법\n",
    "\n"
   ]
  },
  {
   "cell_type": "markdown",
   "metadata": {},
   "source": [
    "### 주식 정보 가져오기\n",
    "\n",
    "* url=https://finance.naver.com/item/sise_day.nhn?code=207940&page=1\n",
    "* url로부터 html 가져오기 requests\n",
    "* 가져온 html로부터 분석하기 BeautifulSoup\n",
    "* 해당객체의 정보 가져오기"
   ]
  },
  {
   "cell_type": "code",
   "execution_count": 14,
   "metadata": {},
   "outputs": [],
   "source": [
    "import requests\n",
    "from bs4 import BeautifulSoup\n",
    "import cx_Oracle"
   ]
  },
  {
   "cell_type": "raw",
   "metadata": {},
   "source": [
    "##에러처리\n",
    "for error in curr.getbatcherrors():\n",
    "    print(\"Error\", error.message.rstrip(), \"at row offset\", error.offset)"
   ]
  },
  {
   "cell_type": "code",
   "execution_count": 15,
   "metadata": {},
   "outputs": [],
   "source": [
    "# 변수지정\n",
    "uid='PROJECT1'\n",
    "upw='Test1234'\n",
    "url='localhost:1521/orcl'\n",
    "conn=cx_Oracle.connect(uid,upw,url)\n",
    "cursor=conn.cursor()\n",
    "#print(cursor)\n",
    "url='https://finance.naver.com/item/sise_day.nhn?code=207940&page=1'"
   ]
  },
  {
   "cell_type": "code",
   "execution_count": null,
   "metadata": {},
   "outputs": [],
   "source": []
  },
  {
   "cell_type": "code",
   "execution_count": 22,
   "metadata": {},
   "outputs": [],
   "source": [
    "#data = [20200812, 19250, 20100, 19050, 19550, 8846552]\n",
    "def insertStock(data=[]):\n",
    "    sql = \"insert into STOCKNAV (SIDX,SDATE,OPENP,HIGHP,LOWP,CLOSEP,VOL,SSTAT) values(STOCK_SEQ.NEXTVAL,{0},{1},{2},{3},{4},{5},0)\"\n",
    "    sql1= sql.format(*data)\n",
    "    \n",
    "    try:\n",
    "        cursor.execute(sql1)\n",
    "        return(1)\n",
    "    except cx_Oracle.DatabaseError as exc:\n",
    "        error, = exc.args\n",
    "        print(\"Oracle-Error-Code:\", error.code)\n",
    "        print(\"Oracle-Error-Message:\", error.message)\n",
    "        return(0)\n",
    "    \n",
    "#insertStock(data)"
   ]
  },
  {
   "cell_type": "code",
   "execution_count": 17,
   "metadata": {},
   "outputs": [],
   "source": [
    "#data=[20200811, 19250, 20100, 19050, 19550, 8846552]\n",
    "def addData(data):\n",
    "    sql=\"select * from STSAMBA where SDATE=\"+str(data[0])\n",
    "    cursor.execute(sql)\n",
    "    res=cursor.fetchall()\n",
    "    if(len(res)>0):\n",
    "        print(\"데이터 중복\")\n",
    "    else:\n",
    "        #print(\"입력가능 \")\n",
    "        insertStock(data)\n",
    "        conn.commit()\n",
    "        print(data[0],\" 입력완료 \")\n",
    "#addData(data)"
   ]
  },
  {
   "cell_type": "code",
   "execution_count": 18,
   "metadata": {},
   "outputs": [],
   "source": [
    "def setData(src):\n",
    "    for d in src:\n",
    "        tgt=d.select('td')\n",
    "        n=len(d.select('td.num'))\n",
    "        if(n>0):\n",
    "            sdate=tgt[0].get_text().replace(\".\",\"\")\n",
    "            endp=tgt[1].get_text().replace(\",\",\"\")\n",
    "            startp=tgt[3].get_text().replace(\",\",\"\")\n",
    "            maxp=tgt[4].get_text().replace(\",\",\"\")\n",
    "            minp=tgt[5].get_text().replace(\",\",\"\")\n",
    "            vol=tgt[6].get_text().replace(\",\",\"\")\n",
    "            t=[int(sdate),int(startp),int(maxp),int(minp),int(endp),int(vol)]\n",
    "            addData(t)\n",
    "            print(t)\n"
   ]
  },
  {
   "cell_type": "code",
   "execution_count": 19,
   "metadata": {},
   "outputs": [],
   "source": [
    "def myNaverStock(url):\n",
    "    req=requests.get(url)\n",
    "    res=req.text[:100]\n",
    "    if(len(res)>50):\n",
    "        html=req.text\n",
    "        soup=BeautifulSoup(html,'html.parser')\n",
    "        src=soup.select('table.type2 > tr')\n",
    "        setData(src)"
   ]
  },
  {
   "cell_type": "code",
   "execution_count": 20,
   "metadata": {},
   "outputs": [
    {
     "name": "stdout",
     "output_type": "stream",
     "text": [
      "데이터 중복\n",
      "[20161116, 168500, 173000, 163500, 170000, 1660976]\n",
      "데이터 중복\n",
      "[20161115, 179000, 181500, 162500, 166000, 2592949]\n",
      "데이터 중복\n",
      "[20161114, 165000, 177500, 165000, 175500, 2977177]\n",
      "데이터 중복\n",
      "[20161111, 149500, 186500, 142000, 161500, 8140539]\n",
      "데이터 중복\n",
      "[20161110, 135000, 148000, 125500, 144000, 7179018]\n"
     ]
    },
    {
     "ename": "ValueError",
     "evalue": "invalid literal for int() with base 10: '\\xa0'",
     "output_type": "error",
     "traceback": [
      "\u001b[1;31m---------------------------------------------------------------------------\u001b[0m",
      "\u001b[1;31mValueError\u001b[0m                                Traceback (most recent call last)",
      "\u001b[1;32m<ipython-input-20-b907beda02ec>\u001b[0m in \u001b[0;36m<module>\u001b[1;34m\u001b[0m\n\u001b[0;32m      2\u001b[0m \u001b[1;32mfor\u001b[0m \u001b[0mi\u001b[0m \u001b[1;32min\u001b[0m \u001b[0mrange\u001b[0m\u001b[1;33m(\u001b[0m\u001b[1;36m100\u001b[0m\u001b[1;33m,\u001b[0m\u001b[1;36m200\u001b[0m\u001b[1;33m)\u001b[0m\u001b[1;33m:\u001b[0m\u001b[1;33m\u001b[0m\u001b[1;33m\u001b[0m\u001b[0m\n\u001b[0;32m      3\u001b[0m     \u001b[0murl\u001b[0m\u001b[1;33m=\u001b[0m\u001b[0mbaseUrl\u001b[0m\u001b[1;33m+\u001b[0m\u001b[0mstr\u001b[0m\u001b[1;33m(\u001b[0m\u001b[0mi\u001b[0m\u001b[1;33m)\u001b[0m\u001b[1;33m\u001b[0m\u001b[1;33m\u001b[0m\u001b[0m\n\u001b[1;32m----> 4\u001b[1;33m     \u001b[0mmyNaverStock\u001b[0m\u001b[1;33m(\u001b[0m\u001b[0murl\u001b[0m\u001b[1;33m)\u001b[0m\u001b[1;33m\u001b[0m\u001b[1;33m\u001b[0m\u001b[0m\n\u001b[0m",
      "\u001b[1;32m<ipython-input-19-4c19d98a965a>\u001b[0m in \u001b[0;36mmyNaverStock\u001b[1;34m(url)\u001b[0m\n\u001b[0;32m      6\u001b[0m         \u001b[0msoup\u001b[0m\u001b[1;33m=\u001b[0m\u001b[0mBeautifulSoup\u001b[0m\u001b[1;33m(\u001b[0m\u001b[0mhtml\u001b[0m\u001b[1;33m,\u001b[0m\u001b[1;34m'html.parser'\u001b[0m\u001b[1;33m)\u001b[0m\u001b[1;33m\u001b[0m\u001b[1;33m\u001b[0m\u001b[0m\n\u001b[0;32m      7\u001b[0m         \u001b[0msrc\u001b[0m\u001b[1;33m=\u001b[0m\u001b[0msoup\u001b[0m\u001b[1;33m.\u001b[0m\u001b[0mselect\u001b[0m\u001b[1;33m(\u001b[0m\u001b[1;34m'table.type2 > tr'\u001b[0m\u001b[1;33m)\u001b[0m\u001b[1;33m\u001b[0m\u001b[1;33m\u001b[0m\u001b[0m\n\u001b[1;32m----> 8\u001b[1;33m         \u001b[0msetData\u001b[0m\u001b[1;33m(\u001b[0m\u001b[0msrc\u001b[0m\u001b[1;33m)\u001b[0m\u001b[1;33m\u001b[0m\u001b[1;33m\u001b[0m\u001b[0m\n\u001b[0m",
      "\u001b[1;32m<ipython-input-18-a112a0cae4c8>\u001b[0m in \u001b[0;36msetData\u001b[1;34m(src)\u001b[0m\n\u001b[0;32m     10\u001b[0m             \u001b[0mminp\u001b[0m\u001b[1;33m=\u001b[0m\u001b[0mtgt\u001b[0m\u001b[1;33m[\u001b[0m\u001b[1;36m5\u001b[0m\u001b[1;33m]\u001b[0m\u001b[1;33m.\u001b[0m\u001b[0mget_text\u001b[0m\u001b[1;33m(\u001b[0m\u001b[1;33m)\u001b[0m\u001b[1;33m.\u001b[0m\u001b[0mreplace\u001b[0m\u001b[1;33m(\u001b[0m\u001b[1;34m\",\"\u001b[0m\u001b[1;33m,\u001b[0m\u001b[1;34m\"\"\u001b[0m\u001b[1;33m)\u001b[0m\u001b[1;33m\u001b[0m\u001b[1;33m\u001b[0m\u001b[0m\n\u001b[0;32m     11\u001b[0m             \u001b[0mvol\u001b[0m\u001b[1;33m=\u001b[0m\u001b[0mtgt\u001b[0m\u001b[1;33m[\u001b[0m\u001b[1;36m6\u001b[0m\u001b[1;33m]\u001b[0m\u001b[1;33m.\u001b[0m\u001b[0mget_text\u001b[0m\u001b[1;33m(\u001b[0m\u001b[1;33m)\u001b[0m\u001b[1;33m.\u001b[0m\u001b[0mreplace\u001b[0m\u001b[1;33m(\u001b[0m\u001b[1;34m\",\"\u001b[0m\u001b[1;33m,\u001b[0m\u001b[1;34m\"\"\u001b[0m\u001b[1;33m)\u001b[0m\u001b[1;33m\u001b[0m\u001b[1;33m\u001b[0m\u001b[0m\n\u001b[1;32m---> 12\u001b[1;33m             \u001b[0mt\u001b[0m\u001b[1;33m=\u001b[0m\u001b[1;33m[\u001b[0m\u001b[0mint\u001b[0m\u001b[1;33m(\u001b[0m\u001b[0msdate\u001b[0m\u001b[1;33m)\u001b[0m\u001b[1;33m,\u001b[0m\u001b[0mint\u001b[0m\u001b[1;33m(\u001b[0m\u001b[0mstartp\u001b[0m\u001b[1;33m)\u001b[0m\u001b[1;33m,\u001b[0m\u001b[0mint\u001b[0m\u001b[1;33m(\u001b[0m\u001b[0mmaxp\u001b[0m\u001b[1;33m)\u001b[0m\u001b[1;33m,\u001b[0m\u001b[0mint\u001b[0m\u001b[1;33m(\u001b[0m\u001b[0mminp\u001b[0m\u001b[1;33m)\u001b[0m\u001b[1;33m,\u001b[0m\u001b[0mint\u001b[0m\u001b[1;33m(\u001b[0m\u001b[0mendp\u001b[0m\u001b[1;33m)\u001b[0m\u001b[1;33m,\u001b[0m\u001b[0mint\u001b[0m\u001b[1;33m(\u001b[0m\u001b[0mvol\u001b[0m\u001b[1;33m)\u001b[0m\u001b[1;33m]\u001b[0m\u001b[1;33m\u001b[0m\u001b[1;33m\u001b[0m\u001b[0m\n\u001b[0m\u001b[0;32m     13\u001b[0m             \u001b[0maddData\u001b[0m\u001b[1;33m(\u001b[0m\u001b[0mt\u001b[0m\u001b[1;33m)\u001b[0m\u001b[1;33m\u001b[0m\u001b[1;33m\u001b[0m\u001b[0m\n\u001b[0;32m     14\u001b[0m             \u001b[0mprint\u001b[0m\u001b[1;33m(\u001b[0m\u001b[0mt\u001b[0m\u001b[1;33m)\u001b[0m\u001b[1;33m\u001b[0m\u001b[1;33m\u001b[0m\u001b[0m\n",
      "\u001b[1;31mValueError\u001b[0m: invalid literal for int() with base 10: '\\xa0'"
     ]
    }
   ],
   "source": [
    "baseUrl='https://finance.naver.com/item/sise_day.nhn?code=207940&page='\n",
    "for i in range(100,200):\n",
    "    url=baseUrl+str(i)\n",
    "    myNaverStock(url)"
   ]
  },
  {
   "cell_type": "code",
   "execution_count": null,
   "metadata": {},
   "outputs": [],
   "source": []
  }
 ],
 "metadata": {
  "kernelspec": {
   "display_name": "Python 3",
   "language": "python",
   "name": "python3"
  },
  "language_info": {
   "codemirror_mode": {
    "name": "ipython",
    "version": 3
   },
   "file_extension": ".py",
   "mimetype": "text/x-python",
   "name": "python",
   "nbconvert_exporter": "python",
   "pygments_lexer": "ipython3",
   "version": "3.7.7"
  }
 },
 "nbformat": 4,
 "nbformat_minor": 4
}
